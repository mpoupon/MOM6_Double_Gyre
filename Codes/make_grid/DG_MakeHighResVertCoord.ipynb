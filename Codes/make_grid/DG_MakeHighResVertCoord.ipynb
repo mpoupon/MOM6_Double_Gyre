{
 "cells": [
  {
   "cell_type": "markdown",
   "metadata": {},
   "source": [
    "# High resolution vertical coordinates for double-gyre simulation\n",
    "To set up the initialization files for the spin up with COBALT, run the physics only spin up for one more year with a higher resolution vertical axis. Use the vertical axis in the restart file, ignoring actual layers.\n",
    "\n",
    "### Steps\n",
    "1. Create a new simulation folder.\n",
    "2. Move the appropriate restart file into the RESTART folder.\n",
    "3. In `tigress`, access navigate to the simulation's `./INPUT/code/` and run this Notebook to create the vertical coordinate axis.\n",
    "4. Change `DIAG_COORD_DEF_Z = \"WOA09\"` to `DIAG_COORD_DEF_Z = FILE:vgrid_HighRes4000m_surface2m.nc,dz`\n"
   ]
  },
  {
   "cell_type": "code",
   "execution_count": null,
   "metadata": {},
   "outputs": [],
   "source": [
    "import numpy as np\n",
    "import xarray as xr\n",
    "import netCDF4 as nc\n",
    "from datetime import datetime"
   ]
  },
  {
   "cell_type": "code",
   "execution_count": null,
   "metadata": {},
   "outputs": [],
   "source": [
    "# Manual input\n",
    "fillval   = -1e+20  # set fill value (Raphael/Enhui: -1e+20; Elizabeth:-1.e+34)\n",
    "\n",
    "# Paths \n",
    "rpath     = '../../RESTART/'  # to restart file\n",
    "ipath     = '../'  # save into input\n",
    "\n",
    "# Restart year\n",
    "Ryr       = '2490'\n",
    "\n",
    "# Max ocean depth (flat bottom)\n",
    "strdepth  = '4000m'"
   ]
  },
  {
   "cell_type": "code",
   "execution_count": null,
   "metadata": {},
   "outputs": [],
   "source": [
    "### Create a new vertical axis that has the same resolution has the restart files  ###\n",
    "# Load MOM restart file \n",
    "dsR     = xr.open_dataset(rpath + 'MOM.res_Y' + Ryr + '_D001_S00000.nc')\n",
    "\n",
    "# From Elizabeth's MOM6 Example\n",
    "writing = nc.Dataset(ipath + \"vgrid_HighRes\" + strdepth + \"_surface2m.nc\",\"w\",format=\"NETCDF4_CLASSIC\")\n",
    "dz      = writing.createDimension(\"dz\", len(dsR.Layer))\n",
    "zw      = writing.createDimension(\"zw\", len(dsR.Interface))\n",
    "zt      = writing.createDimension(\"zt\", len(dsR.Layer))\n",
    "\n",
    "dz      = writing.createVariable(\"dz\",\"f8\",(\"dz\"))\n",
    "dz[:]   = np.diff(dsR.Interface)\n",
    "dz.long_name = \"Diagnostic depth thickness in the vertical coordinate\"\n",
    "dz.comment   = \"Used for diagnostics only according to Jingru requirement\"\n",
    "dz.units     = \"m\"\n",
    "\n",
    "zw      = writing.createVariable(\"zw\",\"f8\",(\"zw\"))\n",
    "zw[:]   = dsR.Interface.values\n",
    "zw.long_name = \"Diagnostic interface depth in the vertical coordinate\"\n",
    "zw.comment   = \"Used for diagnostics only according to Jingru requirement\"\n",
    "zw.units     = \"m\"\n",
    "\n",
    "zt      = writing.createVariable(\"zt\",\"f8\",(\"zt\"))\n",
    "zt[:]   = dsR.Layer.values\n",
    "zt.long_name = \"Diagnostic tracer point depth in the vertical coordinate\"\n",
    "zt.comment   = \"Used for diagnostics only according to Jingru requirement\"\n",
    "zt.units     = \"m\"\n",
    "\n",
    "writing.creator = \"JCG in LRG at Princeton University\"\n",
    "writing.creation_date = datetime.now().strftime(\"%d-%b-%Y %H:%M:%S\")\n",
    "\n",
    "writing.close()"
   ]
  }
 ],
 "metadata": {
  "kernelspec": {
   "display_name": "DGwork",
   "language": "python",
   "name": "dgwork"
  },
  "language_info": {
   "codemirror_mode": {
    "name": "ipython",
    "version": 3
   },
   "file_extension": ".py",
   "mimetype": "text/x-python",
   "name": "python",
   "nbconvert_exporter": "python",
   "pygments_lexer": "ipython3",
   "version": "3.10.2"
  }
 },
 "nbformat": 4,
 "nbformat_minor": 2
}
