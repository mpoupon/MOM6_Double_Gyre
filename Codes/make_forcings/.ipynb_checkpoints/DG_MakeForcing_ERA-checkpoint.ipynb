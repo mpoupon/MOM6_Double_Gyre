{
 "cells": [
  {
   "cell_type": "code",
   "execution_count": 1,
   "metadata": {},
   "outputs": [],
   "source": [
    "# Load modules\n",
    "import os\n",
    "import glob\n",
    "import cftime\n",
    "import numpy as np\n",
    "import xarray as xr\n",
    "import pandas as pd\n",
    "import netCDF4 as nc\n",
    "from tqdm import tqdm\n",
    "from scipy import signal\n",
    "import matplotlib.pyplot as plt\n",
    "import scipy.interpolate as interp\n",
    "\n",
    "import warnings\n",
    "warnings.filterwarnings('ignore')"
   ]
  },
  {
   "cell_type": "markdown",
   "metadata": {},
   "source": [
    "# ERA - Short Waves"
   ]
  },
  {
   "cell_type": "markdown",
   "metadata": {},
   "source": [
    "## Calculation"
   ]
  },
  {
   "cell_type": "code",
   "execution_count": null,
   "metadata": {},
   "outputs": [
    {
     "ename": "NameError",
     "evalue": "name 'xr' is not defined",
     "output_type": "error",
     "traceback": [
      "\u001b[0;31m---------------------------------------------------------------------------\u001b[0m",
      "\u001b[0;31mNameError\u001b[0m                                 Traceback (most recent call last)",
      "\u001b[0;32m<ipython-input-1-8bf1b912e5be>\u001b[0m in \u001b[0;36m<module>\u001b[0;34m\u001b[0m\n\u001b[1;32m      3\u001b[0m \u001b[0mtime_shift\u001b[0m \u001b[0;34m=\u001b[0m \u001b[0;36m3\u001b[0m \u001b[0;31m# hours\u001b[0m\u001b[0;34m\u001b[0m\u001b[0;34m\u001b[0m\u001b[0m\n\u001b[1;32m      4\u001b[0m \u001b[0;34m\u001b[0m\u001b[0m\n\u001b[0;32m----> 5\u001b[0;31m \u001b[0mSW_era\u001b[0m \u001b[0;34m=\u001b[0m \u001b[0mxr\u001b[0m\u001b[0;34m.\u001b[0m\u001b[0mopen_mfdataset\u001b[0m\u001b[0;34m(\u001b[0m\u001b[0mpath\u001b[0m\u001b[0;34m)\u001b[0m\u001b[0;34m.\u001b[0m\u001b[0mmsdwswrf\u001b[0m\u001b[0;34m.\u001b[0m\u001b[0msel\u001b[0m\u001b[0;34m(\u001b[0m\u001b[0mexpver\u001b[0m \u001b[0;34m=\u001b[0m \u001b[0;36m1\u001b[0m\u001b[0;34m)\u001b[0m\u001b[0;34m.\u001b[0m\u001b[0mdrop\u001b[0m\u001b[0;34m(\u001b[0m\u001b[0;34m'expver'\u001b[0m\u001b[0;34m)\u001b[0m\u001b[0;34m\u001b[0m\u001b[0;34m\u001b[0m\u001b[0m\n\u001b[0m\u001b[1;32m      6\u001b[0m \u001b[0mSW_era\u001b[0m \u001b[0;34m=\u001b[0m \u001b[0mSW_era\u001b[0m\u001b[0;34m.\u001b[0m\u001b[0msel\u001b[0m\u001b[0;34m(\u001b[0m\u001b[0mlatitude\u001b[0m \u001b[0;34m=\u001b[0m \u001b[0mslice\u001b[0m\u001b[0;34m(\u001b[0m\u001b[0;36m65\u001b[0m\u001b[0;34m,\u001b[0m \u001b[0;36m15\u001b[0m\u001b[0;34m)\u001b[0m\u001b[0;34m,\u001b[0m \u001b[0mlongitude\u001b[0m \u001b[0;34m=\u001b[0m \u001b[0mslice\u001b[0m\u001b[0;34m(\u001b[0m\u001b[0;36m325\u001b[0m\u001b[0;34m,\u001b[0m \u001b[0;36m327\u001b[0m\u001b[0;34m)\u001b[0m\u001b[0;34m)\u001b[0m\u001b[0;34m.\u001b[0m\u001b[0msortby\u001b[0m\u001b[0;34m(\u001b[0m\u001b[0;34m\"latitude\"\u001b[0m\u001b[0;34m)\u001b[0m\u001b[0;34m\u001b[0m\u001b[0;34m\u001b[0m\u001b[0m\n\u001b[1;32m      7\u001b[0m \u001b[0mSW_era\u001b[0m \u001b[0;34m=\u001b[0m \u001b[0mSW_era\u001b[0m\u001b[0;34m.\u001b[0m\u001b[0mconvert_calendar\u001b[0m\u001b[0;34m(\u001b[0m\u001b[0mcalendar\u001b[0m \u001b[0;34m=\u001b[0m \u001b[0;34m'noleap'\u001b[0m\u001b[0;34m,\u001b[0m \u001b[0mdim\u001b[0m\u001b[0;34m=\u001b[0m\u001b[0;34m'time'\u001b[0m\u001b[0;34m)\u001b[0m\u001b[0;34m\u001b[0m\u001b[0;34m\u001b[0m\u001b[0m\n",
      "\u001b[0;31mNameError\u001b[0m: name 'xr' is not defined"
     ]
    }
   ],
   "source": [
    "path = '/projects/GEOCLIM/LRGROUP/datasets_2020_Jan/ERA5/data_origin/rsds/era5.mean_surface_downward_short_wave_radiation_flux.*.nc'\n",
    "\n",
    "time_shift = 3 # hours\n",
    "\n",
    "SW_era = xr.open_mfdataset(path).msdwswrf.sel(expver = 1).drop('expver')\n",
    "SW_era = SW_era.sel(latitude = slice(65, 15), longitude = slice(325, 327)).sortby(\"latitude\")\n",
    "SW_era = SW_era.convert_calendar(calendar = 'noleap', dim='time')\n",
    "SW_era['time'] = SW_era['time'] - dt.timedelta(hours = time_shift)"
   ]
  },
  {
   "cell_type": "code",
   "execution_count": null,
   "metadata": {},
   "outputs": [],
   "source": [
    "hourofyear = (SW_era['time.dayofyear'] * 24 + SW_era['time.hour']).rename('hourofyear')\n",
    "SW_Zavg    = SW_era.mean('longitude').groupby(hourofyear).mean('time')\n",
    "\n",
    "timeofyear = np.array(SW_era.time)[SW_era['time.year'] == 1990]\n",
    "SW_Zavg['hourofyear'] = timeofyear"
   ]
  },
  {
   "cell_type": "code",
   "execution_count": null,
   "metadata": {},
   "outputs": [],
   "source": [
    "time = []\n",
    "for yr,mo,da,hr,mi,se in zip(SW_Zavg['hourofyear.year'], SW_Zavg['hourofyear.month'],  SW_Zavg['hourofyear.day'], \n",
    "                             SW_Zavg['hourofyear.hour'], SW_Zavg['hourofyear.minute'], SW_Zavg['hourofyear.second']):\n",
    "    tmp = dt.datetime(int(yr),int(mo),int(da),int(hr),int(mi),int(se))\n",
    "    tmp = np.datetime64(tmp).astype('datetime64[ns]')\n",
    "    time.append(tmp)\n",
    "time = np.array(time)\n",
    "time = pd.to_datetime(time)\n",
    "\n",
    "new_time = []\n",
    "for n in range(len(time)):\n",
    "    new_time.append(time[n].to_julian_date() - \n",
    "                    time[n].replace(month=1,day=1,hour=0,minute=0,second=0).to_julian_date())\n",
    "\n",
    "SW_Zavg['hourofyear'] = np.array(new_time)\n",
    "\n",
    "yh = SW_era.latitude\n",
    "xh = SW_era.longitude\n",
    "\n",
    "SW_Zavg = SW_Zavg.compute()"
   ]
  },
  {
   "cell_type": "code",
   "execution_count": null,
   "metadata": {},
   "outputs": [],
   "source": [
    "SW_Zavg.to_netcdf('../../forcings/idealized_year_control/gridded/SW_zavg_3deg.nc')"
   ]
  },
  {
   "cell_type": "markdown",
   "metadata": {},
   "source": [
    "## Gridding"
   ]
  },
  {
   "cell_type": "code",
   "execution_count": 2,
   "metadata": {},
   "outputs": [],
   "source": [
    "# Lat and lon of forcing domain\n",
    "hres     = 0.25\n",
    "lat_out  = np.arange(15, 65.5-hres, hres)  # from 15 to 65\n",
    "lon_out  = np.arange(300, 350.5-hres, hres)  # from 300 to 350\n",
    "\n",
    "fillval  = -1e+20  # set fill value (Raphael/Enhui: -1e+20; Elizabeth:-1.e+34)"
   ]
  },
  {
   "cell_type": "code",
   "execution_count": 3,
   "metadata": {},
   "outputs": [],
   "source": [
    "def low_filter(data, t_coupe):\n",
    "    \n",
    "    sig = data\n",
    "    fe = 1 # Fréquence d'échantillonnage (yr-1)\n",
    "    f_nyq = fe / 2.  # Fréquence de nyquist\n",
    "    fc = 1/t_coupe # Fréquence de coupure (yr-1)\n",
    "    b, a = signal.butter(4, fc/f_nyq, 'low', analog=False) #filtre de Butterworth en passe-bas\n",
    "    s_but = signal.filtfilt(b, a, sig, padlen=50) # Application du filtre\n",
    "    \n",
    "    return s_but"
   ]
  },
  {
   "cell_type": "code",
   "execution_count": 4,
   "metadata": {},
   "outputs": [
    {
     "name": "stderr",
     "output_type": "stream",
     "text": [
      "100%|██████████| 8760/8760 [00:05<00:00, 1609.26it/s]\n"
     ]
    }
   ],
   "source": [
    "SW_1yr = xr.open_dataarray('../../forcings/idealized_year_control/zonal_means/SW_zavg_3deg.nc')\n",
    "\n",
    "for i in tqdm(range(len(SW_1yr))):\n",
    "    data = low_filter(SW_1yr[i], t_coupe = 50)\n",
    "    SW_1yr[i] = data"
   ]
  },
  {
   "cell_type": "code",
   "execution_count": 5,
   "metadata": {},
   "outputs": [],
   "source": [
    "SW_1yr = [SW_1yr for i in range(len(lon_out))]\n",
    "SW_1yr = xr.concat(SW_1yr, dim = 'longitude')\n",
    "SW_1yr = SW_1yr.rename({'hourofyear':'time', 'latitude':'yh', 'longitude':'xh'})\n",
    "SW_1yr = SW_1yr.transpose('time','yh','xh')\n",
    "\n",
    "h_shift = 3\n",
    "SW_1yr['time'] = SW_1yr['time']-h_shift/24\n",
    "SW_1yr['time'] = SW_1yr['time'] + 365*(SW_1yr['time']<0)\n",
    "SW_1yr = SW_1yr.sortby('time')"
   ]
  },
  {
   "cell_type": "code",
   "execution_count": 10,
   "metadata": {},
   "outputs": [],
   "source": [
    "# Attributes definition\n",
    "#yh_attrs   = {'standard_name' : 'latitude', 'long_name' : 'latitude', 'units' : 'degrees_north', 'axis' : 'Y'}\n",
    "#xh_attrs   = {'standard_name' : 'longitude', 'long_name' : 'longitude', 'units' : 'degrees_east', 'axis' : 'X'}\n",
    "#time_attrs = {'standard_name' : 'time', 'long_name' : 'time', 'axis' : 'T', 'modulo' : ''}\n",
    "#rsds_attrs = {'long_name' : 'Surface Downwelling Shortwave Radiation', 'units' : 'W m-2'}\n",
    "\n",
    "# Coords and data creation\n",
    "#coords = {'yh': (['yh'], lat_out, yh_attrs),\n",
    "#          'xh': (['xh'], lon_out, xh_attrs),\n",
    "#          'time': (['time'], SW_1yr.time.values, time_attrs)}\n",
    "\n",
    "#data_vars = {'rsds':(['time','yh','xh'], SW_1yr.values, rsds_attrs)}\n",
    "\n",
    "# Dataset creation\n",
    "#ds_SW = xr.Dataset(data_vars = data_vars, coords=coords)"
   ]
  },
  {
   "cell_type": "code",
   "execution_count": 6,
   "metadata": {},
   "outputs": [],
   "source": [
    "### Function to save gridded forcing ###\n",
    "# 'ts', saved as 'tas' to be consistent with previous files that required Enhui's Matlab Code\n",
    "def sforc(gpath, vname, fname_out, lat_out, lon_out, time_out, f_out):\n",
    "    # Save output - this could be a function earlier in the code\n",
    "    writing = nc.Dataset(gpath + vname + fname_out, \"w\", format=\"NETCDF3_64BIT_OFFSET\")\n",
    "    time    = writing.createDimension(\"time\", None)  # sets unlimited dimension\n",
    "    yh      = writing.createDimension(\"yh\", len(lat_out))\n",
    "    xh      = writing.createDimension(\"xh\", len(lon_out))\n",
    "\n",
    "    yh     = writing.createVariable(\"yh\",\"f8\",(\"yh\"))\n",
    "    yh[:]  = lat_out\n",
    "    yh.standard_name    = \"latitude\"\n",
    "    yh.long_name        = \"latitude\"\n",
    "    yh.units            = \"degrees_north\"\n",
    "    yh.axis             = \"Y\"\n",
    "\n",
    "    xh     = writing.createVariable(\"xh\",\"f8\",(\"xh\"))\n",
    "    xh[:]  = lon_out\n",
    "    xh.standard_name    = \"longitude\"\n",
    "    xh.long_name        = \"longitude\"\n",
    "    xh.units            = \"degrees_east\"\n",
    "    xh.axis             = \"X\" ;\n",
    "\n",
    "    time    = writing.createVariable(\"time\",\"f8\",(\"time\"))\n",
    "    time[:] = time_out\n",
    "    time.standard_name   = \"time\"\n",
    "    time.long_name       = \"time\"\n",
    "    time.units           = \"days since 1900-01-01 00:00:00\" ;\n",
    "    time.calendar        = \"gregorian\" ;\n",
    "    time.axis            = \"T\" ;\n",
    "    time.modulo          = \" \" ;\n",
    "\n",
    "    var          = writing.createVariable(vname,\"f8\",(\"time\",\"yh\",\"xh\"),fill_value=fillval)\n",
    "    var[:,:,:]   = f_out\n",
    "\n",
    "    # Write information about each variable\n",
    "    # Forcing variables\n",
    "    if (vname == 'rsds'):    \n",
    "        var.long_name      = \"Surface Downwelling Shortwave Radiation\"\n",
    "        var.units          = \"W m-2\"\n",
    "\n",
    "    writing.close()"
   ]
  },
  {
   "cell_type": "code",
   "execution_count": null,
   "metadata": {},
   "outputs": [],
   "source": [
    "gpath = '../../forcings/idealized_year_cold_NHtemp/gridded/'\n",
    "vname  = 'rsds'\n",
    "fname_out = '_ERA5_3deg_d1yr_f1hr.nc'\n",
    "\n",
    "time_out = SW_1yr.time.values\n",
    "\n",
    "f_out = SW_1yr.values\n",
    "\n",
    "sforc(gpath, vname, fname_out, lat_out, lon_out, time_out, f_out)"
   ]
  },
  {
   "cell_type": "code",
   "execution_count": null,
   "metadata": {},
   "outputs": [],
   "source": [
    "#s_path = '../../forcings/idealized_year_control/gridded/rsds_ERA5_3deg_d1yr_f1hr.nc'\n",
    "#os.remove(s_path)\n",
    "#ds_SW.to_netcdf(s_path)"
   ]
  }
 ],
 "metadata": {
  "kernelspec": {
   "display_name": "cmip6_omz2 [~/.conda/envs/cmip6_omz2/]",
   "language": "python",
   "name": "conda_cmip6_omz2"
  },
  "language_info": {
   "codemirror_mode": {
    "name": "ipython",
    "version": 3
   },
   "file_extension": ".py",
   "mimetype": "text/x-python",
   "name": "python",
   "nbconvert_exporter": "python",
   "pygments_lexer": "ipython3",
   "version": "3.9.6"
  }
 },
 "nbformat": 4,
 "nbformat_minor": 4
}
