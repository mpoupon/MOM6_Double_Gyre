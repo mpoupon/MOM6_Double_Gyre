{
 "cells": [
  {
   "cell_type": "code",
   "execution_count": 1,
   "metadata": {},
   "outputs": [],
   "source": [
    "import os\n",
    "import numpy as np\n",
    "import pandas as pd\n",
    "import xarray as xr \n",
    "import netCDF4 as nc\n",
    "import datetime as dt\n",
    "import matplotlib.pyplot as plt\n",
    "import matplotlib.colors as colors"
   ]
  },
  {
   "cell_type": "markdown",
   "metadata": {},
   "source": [
    "# Idealized wind"
   ]
  },
  {
   "cell_type": "code",
   "execution_count": 2,
   "metadata": {},
   "outputs": [],
   "source": [
    "def sforc(gpath, vname, fname_out, lat_out, lon_out, time_out, f_out):\n",
    "    # Save output - this could be a function earlier in the code\n",
    "    writing = nc.Dataset(gpath + vname + fname_out, \"w\", format=\"NETCDF3_64BIT_OFFSET\")\n",
    "    time    = writing.createDimension(\"time\", None)  # sets unlimited dimension\n",
    "    yh      = writing.createDimension(\"yh\", len(lat_out))\n",
    "    xh      = writing.createDimension(\"xh\", len(lon_out))\n",
    "\n",
    "    yh     = writing.createVariable(\"yh\",\"f8\",(\"yh\"))\n",
    "    yh[:]  = lat_out\n",
    "    yh.standard_name    = \"latitude\"\n",
    "    yh.long_name        = \"latitude\"\n",
    "    yh.units            = \"degrees_north\"\n",
    "    yh.axis             = \"Y\"\n",
    "\n",
    "    xh     = writing.createVariable(\"xh\",\"f8\",(\"xh\"))\n",
    "    xh[:]  = lon_out\n",
    "    xh.standard_name    = \"longitude\"\n",
    "    xh.long_name        = \"longitude\"\n",
    "    xh.units            = \"degrees_east\"\n",
    "    xh.axis             = \"X\" ;\n",
    "\n",
    "    time    = writing.createVariable(\"time\",\"f8\",(\"time\"))\n",
    "    time[:] = time_out\n",
    "    time.standard_name   = \"time\"\n",
    "    time.long_name       = \"time\"\n",
    "    time.units           = \"days since 1900-01-01 00:00:00\" ;\n",
    "    time.calendar        = \"gregorian\" ;\n",
    "    time.axis            = \"T\" ;\n",
    "    time.modulo          = \" \" ;\n",
    "\n",
    "    var          = writing.createVariable(vname,\"f8\",(\"time\",\"yh\",\"xh\"),fill_value=fillval)\n",
    "    var[:,:,:]   = f_out\n",
    "    \n",
    "    if (vname == 'uas'):\n",
    "        var.long_name      = \"Eastward Near-Surface Wind\"\n",
    "        var.units          = \"m s-1\"\n",
    "        \n",
    "    elif (vname == 'vas'):\n",
    "        var.long_name      = \"Northward Near-Surface Wind\"\n",
    "        var.units          = \"m s-1\"\n",
    "    \n",
    "    writing.close()\n",
    "    \n",
    "def save_wind(ds_all, forcings, time_m, lat_out, lon_out, gpath, fname_out):\n",
    "    \n",
    "    for iforc, i_ds in zip(forcings,range(len(forcings))):\n",
    "\n",
    "        pN = ds_all[i_ds]\n",
    "        time_out  = time_m  # using day of year\n",
    "        fname_out = fnameLF_out\n",
    "\n",
    "        # Create a zero array to store the forcing files\n",
    "        f_out = np.zeros((len(time_out), len(lat_out), len(lon_out)))\n",
    "\n",
    "        # At every time step \n",
    "        for itime in np.arange(0,len(time_out)):\n",
    "            # Interpolate zonal mean to grid latitude\n",
    "            f0 = np.interp(lat_out, pN.lat, pN[iforc][:,itime])\n",
    "\n",
    "            # Repeat the profile everywhere in our domain\n",
    "            f_out[itime, :, :] = np.tile(f0.reshape(len(lat_out),1), len(lon_out))\n",
    "\n",
    "        # There should not be any NaNs, but replace in case\n",
    "        f_out[np.isnan(f_out)] = fillval\n",
    "        vname = iforc\n",
    "\n",
    "        sforc(gpath, vname, fname_out, lat_out, lon_out, time_out, f_out)"
   ]
  },
  {
   "cell_type": "code",
   "execution_count": 3,
   "metadata": {},
   "outputs": [],
   "source": [
    "def stress_cos(yh, mean_amplitude, shift = 0, seasonal_amplitude = 0.1, edge_zero = False):\n",
    "    y_rescale = (yh-20)/(60-20)\n",
    "    \n",
    "    seas_var = 1 + seasonal_amplitude * np.cos(2*np.pi*np.linspace(0,11,12)/12)\n",
    "    seas_var = np.full((len(yh),12),seas_var)\n",
    "    \n",
    "    if edge_zero:\n",
    "        stress_mean = -mean_amplitude*np.cos(2*np.pi*y_rescale) + shift\n",
    "        stress_mean = np.full((12,len(yh)), stress_mean).T\n",
    "        seas_stress = stress_mean * seas_var\n",
    "        \n",
    "    else:\n",
    "        stress_mean = -mean_amplitude*np.cos(2*np.pi*y_rescale)\n",
    "        stress_mean = np.full((12,len(yh)), stress_mean).T\n",
    "        seas_stress = stress_mean * seas_var + shift\n",
    "     \n",
    "    return seas_stress\n",
    "\n",
    "def stress_to_wind(stress):\n",
    "    cd    = 1.8 * 10**(-3) # CD (1.56)  \n",
    "    rho_a = 1.29       # kg/m3\n",
    "    \n",
    "    sign = (stress>0)*2-1 \n",
    "    wind = np.sqrt(np.abs(stress)/(cd*rho_a))*sign\n",
    "    \n",
    "    return wind"
   ]
  },
  {
   "cell_type": "code",
   "execution_count": 5,
   "metadata": {},
   "outputs": [],
   "source": [
    "fnameLF_out = '_idealized_sin_highres_1yr.nc'\n",
    "gpath = '../../forcings/idealized_year_cold_NHtemp/gridded/'\n",
    "forcings = ['uas', 'vas']\n",
    "\n",
    "# Lat and lon of forcing domain\n",
    "hres     = 0.1\n",
    "lat_out  = np.arange(15.5, 70, hres)  # from 15.5 to 69.5\n",
    "lon_out  = np.arange(300, 350.5, hres)  # from 300 to 350\n",
    "\n",
    "# Fill value\n",
    "fillval  = -1e+20  # set fill value (Raphael/Enhui: -1e+20; Elizabeth:-1.e+34)\n",
    "\n",
    "# Create a 12-month time vector \n",
    "time_m = pd.date_range(start = '1990-01-01', periods=12, freq = 'MS')+ pd.DateOffset(days=14)\n",
    "time_m = np.asarray(time_m.dayofyear, dtype=np.float64)-1\n",
    "month=np.array([1, 2, 3, 4, 5, 6, 7, 8, 9, 10, 11, 12])"
   ]
  },
  {
   "cell_type": "code",
   "execution_count": 6,
   "metadata": {},
   "outputs": [],
   "source": [
    "stress_highres = stress_cos(lat_out, mean_amplitude = 0.1, seasonal_amplitude = 0.1, shift = 0., edge_zero = True)\n",
    "wind_highres   = stress_to_wind(stress_highres)"
   ]
  },
  {
   "cell_type": "code",
   "execution_count": 7,
   "metadata": {},
   "outputs": [],
   "source": [
    "wind = wind_highres\n",
    "\n",
    "ds_uas = xr.Dataset(data_vars=dict(uas=([\"lat\", \"month\"], wind)), coords=dict(lat = lat_out ,month=month))\n",
    "ds_vas = np.isnan(ds_uas)*1\n",
    "ds_vas = ds_vas.rename(name_dict={\"uas\": \"vas\"})\n",
    "\n",
    "ds_all = [ds_uas,ds_vas]"
   ]
  },
  {
   "cell_type": "code",
   "execution_count": 8,
   "metadata": {},
   "outputs": [],
   "source": [
    "save_wind(ds_all, forcings, time_m, lat_out, lon_out, gpath, fnameLF_out)"
   ]
  },
  {
   "cell_type": "code",
   "execution_count": null,
   "metadata": {},
   "outputs": [],
   "source": []
  }
 ],
 "metadata": {
  "kernelspec": {
   "display_name": "cmip6_omz2 [~/.conda/envs/cmip6_omz2/]",
   "language": "python",
   "name": "conda_cmip6_omz2"
  },
  "language_info": {
   "codemirror_mode": {
    "name": "ipython",
    "version": 3
   },
   "file_extension": ".py",
   "mimetype": "text/x-python",
   "name": "python",
   "nbconvert_exporter": "python",
   "pygments_lexer": "ipython3",
   "version": "3.9.6"
  }
 },
 "nbformat": 4,
 "nbformat_minor": 4
}
